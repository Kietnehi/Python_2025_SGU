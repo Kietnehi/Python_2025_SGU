{
 "cells": [
  {
   "cell_type": "markdown",
   "metadata": {
    "id": "KMGeFhvh4Atg"
   },
   "source": [
    "## **0. Download dataset**\n",
    "**Note:** If you can't download using gdown due to limited number of downloads, please download it manually and upload it to your drive, then copy it from the drive to colab.\n",
    "```python\n",
    "from google.colab import drive\n",
    "\n",
    "drive.mount('/content/drive')\n",
    "!cp /path/to/dataset/on/your/drive .\n",
    "```"
   ]
  },
  {
   "cell_type": "code",
   "execution_count": 1,
   "metadata": {
    "colab": {
     "base_uri": "https://localhost:8080/"
    },
    "executionInfo": {
     "elapsed": 1390,
     "status": "ok",
     "timestamp": 1694952436220,
     "user": {
      "displayName": "Thắng Dương",
      "userId": "16346474942041582373"
     },
     "user_tz": -420
    },
    "id": "-Gnlgt_F3yOc",
    "outputId": "719a2e5c-2934-4b2c-cd34-62772e28847d"
   },
   "outputs": [
    {
     "name": "stderr",
     "output_type": "stream",
     "text": [
      "C:\\Python311\\Lib\\site-packages\\gdown\\__main__.py:140: FutureWarning: Option `--id` was deprecated in version 4.3.1 and will be removed in 5.0. You don't need to pass it anymore to use a file ID.\n",
      "  warnings.warn(\n",
      "Downloading...\n",
      "From: https://drive.google.com/uc?id=1T4oy9neutVe2egrEcnjhKwAdHJCyDcJ6\n",
      "To: c:\\Users\\ADMIN\\Desktop\\DEEP LEARNING MATERIAL\\CODE_SVM\\breast-cancer.csv\n",
      "\n",
      "  0%|          | 0.00/24.4k [00:00<?, ?B/s]\n",
      "100%|██████████| 24.4k/24.4k [00:00<00:00, 572kB/s]\n"
     ]
    }
   ],
   "source": [
    "# https://drive.google.com/file/d/1T4oy9neutVe2egrEcnjhKwAdHJCyDcJ6/view?usp=drive_link\n",
    "!gdown --id 1T4oy9neutVe2egrEcnjhKwAdHJCyDcJ6"
   ]
  },
  {
   "cell_type": "markdown",
   "metadata": {
    "id": "_BkyPSl-4RJD"
   },
   "source": [
    "## **1. Import libraries**"
   ]
  },
  {
   "cell_type": "code",
   "execution_count": 2,
   "metadata": {
    "id": "_88rnmfa4TjE"
   },
   "outputs": [],
   "source": [
    "import numpy as np\n",
    "import pandas as pd\n",
    "import matplotlib.pyplot as plt\n",
    "\n",
    "from sklearn.svm import SVC\n",
    "from sklearn.preprocessing import (\n",
    "    StandardScaler,\n",
    "    LabelEncoder,\n",
    "    OneHotEncoder,\n",
    "    OrdinalEncoder\n",
    ")\n",
    "from sklearn.compose import ColumnTransformer\n",
    "from sklearn.model_selection import train_test_split\n",
    "from sklearn.metrics import accuracy_score"
   ]
  },
  {
   "cell_type": "markdown",
   "metadata": {
    "id": "nrk1FHwq4kIz"
   },
   "source": [
    "## **2. Load dataset**"
   ]
  },
  {
   "cell_type": "code",
   "execution_count": 3,
   "metadata": {
    "colab": {
     "base_uri": "https://localhost:8080/",
     "height": 424
    },
    "executionInfo": {
     "elapsed": 30,
     "status": "ok",
     "timestamp": 1694952437997,
     "user": {
      "displayName": "Thắng Dương",
      "userId": "16346474942041582373"
     },
     "user_tz": -420
    },
    "id": "H2LVh2Kl4hZb",
    "outputId": "1837f39e-30f2-4e5d-c3a2-4dd4fad74485"
   },
   "outputs": [
    {
     "data": {
      "text/html": [
       "<div>\n",
       "<style scoped>\n",
       "    .dataframe tbody tr th:only-of-type {\n",
       "        vertical-align: middle;\n",
       "    }\n",
       "\n",
       "    .dataframe tbody tr th {\n",
       "        vertical-align: top;\n",
       "    }\n",
       "\n",
       "    .dataframe thead th {\n",
       "        text-align: right;\n",
       "    }\n",
       "</style>\n",
       "<table border=\"1\" class=\"dataframe\">\n",
       "  <thead>\n",
       "    <tr style=\"text-align: right;\">\n",
       "      <th></th>\n",
       "      <th>age</th>\n",
       "      <th>meonpause</th>\n",
       "      <th>tumor-size</th>\n",
       "      <th>inv-nodes</th>\n",
       "      <th>node-caps</th>\n",
       "      <th>deg-malig</th>\n",
       "      <th>breast</th>\n",
       "      <th>breast-quad</th>\n",
       "      <th>irradiat</th>\n",
       "      <th>label</th>\n",
       "    </tr>\n",
       "  </thead>\n",
       "  <tbody>\n",
       "    <tr>\n",
       "      <th>0</th>\n",
       "      <td>'40-49'</td>\n",
       "      <td>'premeno'</td>\n",
       "      <td>'15-19'</td>\n",
       "      <td>'0-2'</td>\n",
       "      <td>'yes'</td>\n",
       "      <td>'3'</td>\n",
       "      <td>'right'</td>\n",
       "      <td>'left_up'</td>\n",
       "      <td>'no'</td>\n",
       "      <td>'recurrence-events'</td>\n",
       "    </tr>\n",
       "    <tr>\n",
       "      <th>1</th>\n",
       "      <td>'50-59'</td>\n",
       "      <td>'ge40'</td>\n",
       "      <td>'15-19'</td>\n",
       "      <td>'0-2'</td>\n",
       "      <td>'no'</td>\n",
       "      <td>'1'</td>\n",
       "      <td>'right'</td>\n",
       "      <td>'central'</td>\n",
       "      <td>'no'</td>\n",
       "      <td>'no-recurrence-events'</td>\n",
       "    </tr>\n",
       "    <tr>\n",
       "      <th>2</th>\n",
       "      <td>'50-59'</td>\n",
       "      <td>'ge40'</td>\n",
       "      <td>'35-39'</td>\n",
       "      <td>'0-2'</td>\n",
       "      <td>'no'</td>\n",
       "      <td>'2'</td>\n",
       "      <td>'left'</td>\n",
       "      <td>'left_low'</td>\n",
       "      <td>'no'</td>\n",
       "      <td>'recurrence-events'</td>\n",
       "    </tr>\n",
       "    <tr>\n",
       "      <th>3</th>\n",
       "      <td>'40-49'</td>\n",
       "      <td>'premeno'</td>\n",
       "      <td>'35-39'</td>\n",
       "      <td>'0-2'</td>\n",
       "      <td>'yes'</td>\n",
       "      <td>'3'</td>\n",
       "      <td>'right'</td>\n",
       "      <td>'left_low'</td>\n",
       "      <td>'yes'</td>\n",
       "      <td>'no-recurrence-events'</td>\n",
       "    </tr>\n",
       "    <tr>\n",
       "      <th>4</th>\n",
       "      <td>'40-49'</td>\n",
       "      <td>'premeno'</td>\n",
       "      <td>'30-34'</td>\n",
       "      <td>'3-5'</td>\n",
       "      <td>'yes'</td>\n",
       "      <td>'2'</td>\n",
       "      <td>'left'</td>\n",
       "      <td>'right_up'</td>\n",
       "      <td>'no'</td>\n",
       "      <td>'recurrence-events'</td>\n",
       "    </tr>\n",
       "    <tr>\n",
       "      <th>...</th>\n",
       "      <td>...</td>\n",
       "      <td>...</td>\n",
       "      <td>...</td>\n",
       "      <td>...</td>\n",
       "      <td>...</td>\n",
       "      <td>...</td>\n",
       "      <td>...</td>\n",
       "      <td>...</td>\n",
       "      <td>...</td>\n",
       "      <td>...</td>\n",
       "    </tr>\n",
       "    <tr>\n",
       "      <th>281</th>\n",
       "      <td>'50-59'</td>\n",
       "      <td>'ge40'</td>\n",
       "      <td>'30-34'</td>\n",
       "      <td>'6-8'</td>\n",
       "      <td>'yes'</td>\n",
       "      <td>'2'</td>\n",
       "      <td>'left'</td>\n",
       "      <td>'left_low'</td>\n",
       "      <td>'no'</td>\n",
       "      <td>'no-recurrence-events'</td>\n",
       "    </tr>\n",
       "    <tr>\n",
       "      <th>282</th>\n",
       "      <td>'50-59'</td>\n",
       "      <td>'premeno'</td>\n",
       "      <td>'25-29'</td>\n",
       "      <td>'3-5'</td>\n",
       "      <td>'yes'</td>\n",
       "      <td>'2'</td>\n",
       "      <td>'left'</td>\n",
       "      <td>'left_low'</td>\n",
       "      <td>'yes'</td>\n",
       "      <td>'no-recurrence-events'</td>\n",
       "    </tr>\n",
       "    <tr>\n",
       "      <th>283</th>\n",
       "      <td>'30-39'</td>\n",
       "      <td>'premeno'</td>\n",
       "      <td>'30-34'</td>\n",
       "      <td>'6-8'</td>\n",
       "      <td>'yes'</td>\n",
       "      <td>'2'</td>\n",
       "      <td>'right'</td>\n",
       "      <td>'right_up'</td>\n",
       "      <td>'no'</td>\n",
       "      <td>'no-recurrence-events'</td>\n",
       "    </tr>\n",
       "    <tr>\n",
       "      <th>284</th>\n",
       "      <td>'50-59'</td>\n",
       "      <td>'premeno'</td>\n",
       "      <td>'15-19'</td>\n",
       "      <td>'0-2'</td>\n",
       "      <td>'no'</td>\n",
       "      <td>'2'</td>\n",
       "      <td>'right'</td>\n",
       "      <td>'left_low'</td>\n",
       "      <td>'no'</td>\n",
       "      <td>'no-recurrence-events'</td>\n",
       "    </tr>\n",
       "    <tr>\n",
       "      <th>285</th>\n",
       "      <td>'50-59'</td>\n",
       "      <td>'ge40'</td>\n",
       "      <td>'40-44'</td>\n",
       "      <td>'0-2'</td>\n",
       "      <td>'no'</td>\n",
       "      <td>'3'</td>\n",
       "      <td>'left'</td>\n",
       "      <td>'right_up'</td>\n",
       "      <td>'no'</td>\n",
       "      <td>'no-recurrence-events'</td>\n",
       "    </tr>\n",
       "  </tbody>\n",
       "</table>\n",
       "<p>286 rows × 10 columns</p>\n",
       "</div>"
      ],
      "text/plain": [
       "         age  meonpause tumor-size inv-nodes node-caps deg-malig   breast  \\\n",
       "0    '40-49'  'premeno'    '15-19'     '0-2'     'yes'       '3'  'right'   \n",
       "1    '50-59'     'ge40'    '15-19'     '0-2'      'no'       '1'  'right'   \n",
       "2    '50-59'     'ge40'    '35-39'     '0-2'      'no'       '2'   'left'   \n",
       "3    '40-49'  'premeno'    '35-39'     '0-2'     'yes'       '3'  'right'   \n",
       "4    '40-49'  'premeno'    '30-34'     '3-5'     'yes'       '2'   'left'   \n",
       "..       ...        ...        ...       ...       ...       ...      ...   \n",
       "281  '50-59'     'ge40'    '30-34'     '6-8'     'yes'       '2'   'left'   \n",
       "282  '50-59'  'premeno'    '25-29'     '3-5'     'yes'       '2'   'left'   \n",
       "283  '30-39'  'premeno'    '30-34'     '6-8'     'yes'       '2'  'right'   \n",
       "284  '50-59'  'premeno'    '15-19'     '0-2'      'no'       '2'  'right'   \n",
       "285  '50-59'     'ge40'    '40-44'     '0-2'      'no'       '3'   'left'   \n",
       "\n",
       "    breast-quad irradiat                   label  \n",
       "0     'left_up'     'no'     'recurrence-events'  \n",
       "1     'central'     'no'  'no-recurrence-events'  \n",
       "2    'left_low'     'no'     'recurrence-events'  \n",
       "3    'left_low'    'yes'  'no-recurrence-events'  \n",
       "4    'right_up'     'no'     'recurrence-events'  \n",
       "..          ...      ...                     ...  \n",
       "281  'left_low'     'no'  'no-recurrence-events'  \n",
       "282  'left_low'    'yes'  'no-recurrence-events'  \n",
       "283  'right_up'     'no'  'no-recurrence-events'  \n",
       "284  'left_low'     'no'  'no-recurrence-events'  \n",
       "285  'right_up'     'no'  'no-recurrence-events'  \n",
       "\n",
       "[286 rows x 10 columns]"
      ]
     },
     "execution_count": 3,
     "metadata": {},
     "output_type": "execute_result"
    }
   ],
   "source": [
    "dataset_path = './breast-cancer.csv'\n",
    "df = pd.read_csv(\n",
    "    dataset_path,\n",
    "    names=[\n",
    "        'age',\n",
    "        'meonpause',\n",
    "        'tumor-size',\n",
    "        'inv-nodes',\n",
    "        'node-caps',\n",
    "        'deg-malig',\n",
    "        'breast',\n",
    "        'breast-quad',\n",
    "        'irradiat',\n",
    "        'label'\n",
    "    ]\n",
    ")\n",
    "df"
   ]
  },
  {
   "cell_type": "code",
   "execution_count": 4,
   "metadata": {
    "colab": {
     "base_uri": "https://localhost:8080/"
    },
    "executionInfo": {
     "elapsed": 28,
     "status": "ok",
     "timestamp": 1694952437998,
     "user": {
      "displayName": "Thắng Dương",
      "userId": "16346474942041582373"
     },
     "user_tz": -420
    },
    "id": "-OojwQbL5Nyn",
    "outputId": "10484a97-f5b3-4ea6-8217-73b6db47a433"
   },
   "outputs": [
    {
     "name": "stdout",
     "output_type": "stream",
     "text": [
      "<class 'pandas.core.frame.DataFrame'>\n",
      "RangeIndex: 286 entries, 0 to 285\n",
      "Data columns (total 10 columns):\n",
      " #   Column       Non-Null Count  Dtype \n",
      "---  ------       --------------  ----- \n",
      " 0   age          286 non-null    object\n",
      " 1   meonpause    286 non-null    object\n",
      " 2   tumor-size   286 non-null    object\n",
      " 3   inv-nodes    286 non-null    object\n",
      " 4   node-caps    278 non-null    object\n",
      " 5   deg-malig    286 non-null    object\n",
      " 6   breast       286 non-null    object\n",
      " 7   breast-quad  285 non-null    object\n",
      " 8   irradiat     286 non-null    object\n",
      " 9   label        286 non-null    object\n",
      "dtypes: object(10)\n",
      "memory usage: 22.5+ KB\n"
     ]
    }
   ],
   "source": [
    "df.info()"
   ]
  },
  {
   "cell_type": "code",
   "execution_count": 5,
   "metadata": {
    "colab": {
     "base_uri": "https://localhost:8080/",
     "height": 175
    },
    "executionInfo": {
     "elapsed": 27,
     "status": "ok",
     "timestamp": 1694952437999,
     "user": {
      "displayName": "Thắng Dương",
      "userId": "16346474942041582373"
     },
     "user_tz": -420
    },
    "id": "nYhpeCMaz1wg",
    "outputId": "da8fe6b1-fa1c-461c-b6d9-7816a435a6fa"
   },
   "outputs": [
    {
     "data": {
      "text/html": [
       "<div>\n",
       "<style scoped>\n",
       "    .dataframe tbody tr th:only-of-type {\n",
       "        vertical-align: middle;\n",
       "    }\n",
       "\n",
       "    .dataframe tbody tr th {\n",
       "        vertical-align: top;\n",
       "    }\n",
       "\n",
       "    .dataframe thead th {\n",
       "        text-align: right;\n",
       "    }\n",
       "</style>\n",
       "<table border=\"1\" class=\"dataframe\">\n",
       "  <thead>\n",
       "    <tr style=\"text-align: right;\">\n",
       "      <th></th>\n",
       "      <th>age</th>\n",
       "      <th>meonpause</th>\n",
       "      <th>tumor-size</th>\n",
       "      <th>inv-nodes</th>\n",
       "      <th>node-caps</th>\n",
       "      <th>deg-malig</th>\n",
       "      <th>breast</th>\n",
       "      <th>breast-quad</th>\n",
       "      <th>irradiat</th>\n",
       "      <th>label</th>\n",
       "    </tr>\n",
       "  </thead>\n",
       "  <tbody>\n",
       "    <tr>\n",
       "      <th>count</th>\n",
       "      <td>286</td>\n",
       "      <td>286</td>\n",
       "      <td>286</td>\n",
       "      <td>286</td>\n",
       "      <td>278</td>\n",
       "      <td>286</td>\n",
       "      <td>286</td>\n",
       "      <td>285</td>\n",
       "      <td>286</td>\n",
       "      <td>286</td>\n",
       "    </tr>\n",
       "    <tr>\n",
       "      <th>unique</th>\n",
       "      <td>6</td>\n",
       "      <td>3</td>\n",
       "      <td>11</td>\n",
       "      <td>7</td>\n",
       "      <td>2</td>\n",
       "      <td>3</td>\n",
       "      <td>2</td>\n",
       "      <td>5</td>\n",
       "      <td>2</td>\n",
       "      <td>2</td>\n",
       "    </tr>\n",
       "    <tr>\n",
       "      <th>top</th>\n",
       "      <td>'50-59'</td>\n",
       "      <td>'premeno'</td>\n",
       "      <td>'30-34'</td>\n",
       "      <td>'0-2'</td>\n",
       "      <td>'no'</td>\n",
       "      <td>'2'</td>\n",
       "      <td>'left'</td>\n",
       "      <td>'left_low'</td>\n",
       "      <td>'no'</td>\n",
       "      <td>'no-recurrence-events'</td>\n",
       "    </tr>\n",
       "    <tr>\n",
       "      <th>freq</th>\n",
       "      <td>96</td>\n",
       "      <td>150</td>\n",
       "      <td>60</td>\n",
       "      <td>213</td>\n",
       "      <td>222</td>\n",
       "      <td>130</td>\n",
       "      <td>152</td>\n",
       "      <td>110</td>\n",
       "      <td>218</td>\n",
       "      <td>201</td>\n",
       "    </tr>\n",
       "  </tbody>\n",
       "</table>\n",
       "</div>"
      ],
      "text/plain": [
       "            age  meonpause tumor-size inv-nodes node-caps deg-malig  breast  \\\n",
       "count       286        286        286       286       278       286     286   \n",
       "unique        6          3         11         7         2         3       2   \n",
       "top     '50-59'  'premeno'    '30-34'     '0-2'      'no'       '2'  'left'   \n",
       "freq         96        150         60       213       222       130     152   \n",
       "\n",
       "       breast-quad irradiat                   label  \n",
       "count          285      286                     286  \n",
       "unique           5        2                       2  \n",
       "top     'left_low'     'no'  'no-recurrence-events'  \n",
       "freq           110      218                     201  "
      ]
     },
     "execution_count": 5,
     "metadata": {},
     "output_type": "execute_result"
    }
   ],
   "source": [
    "df.describe()"
   ]
  },
  {
   "cell_type": "markdown",
   "metadata": {
    "id": "l8JV6lzd0S9p"
   },
   "source": [
    "## **3. Preprocess dataset**"
   ]
  },
  {
   "cell_type": "markdown",
   "metadata": {
    "id": "LGYr5Ol22T2b"
   },
   "source": [
    "### **3.1. Filling missing values**"
   ]
  },
  {
   "cell_type": "code",
   "execution_count": 7,
   "metadata": {
    "id": "sKEJwuHM2WKZ"
   },
   "outputs": [],
   "source": [
    "df['node-caps'] = df['node-caps'].fillna(df['node-caps'].mode()[0])\n",
    "df['breast-quad'] = df['breast-quad'].fillna(df['breast-quad'].mode()[0])"
   ]
  },
  {
   "cell_type": "code",
   "execution_count": 8,
   "metadata": {
    "colab": {
     "base_uri": "https://localhost:8080/",
     "height": 175
    },
    "executionInfo": {
     "elapsed": 28,
     "status": "ok",
     "timestamp": 1694952438001,
     "user": {
      "displayName": "Thắng Dương",
      "userId": "16346474942041582373"
     },
     "user_tz": -420
    },
    "id": "7XMOfeHz2kab",
    "outputId": "7700b6b1-7272-45e1-c7bb-daeb547e654d"
   },
   "outputs": [
    {
     "data": {
      "text/html": [
       "<div>\n",
       "<style scoped>\n",
       "    .dataframe tbody tr th:only-of-type {\n",
       "        vertical-align: middle;\n",
       "    }\n",
       "\n",
       "    .dataframe tbody tr th {\n",
       "        vertical-align: top;\n",
       "    }\n",
       "\n",
       "    .dataframe thead th {\n",
       "        text-align: right;\n",
       "    }\n",
       "</style>\n",
       "<table border=\"1\" class=\"dataframe\">\n",
       "  <thead>\n",
       "    <tr style=\"text-align: right;\">\n",
       "      <th></th>\n",
       "      <th>age</th>\n",
       "      <th>meonpause</th>\n",
       "      <th>tumor-size</th>\n",
       "      <th>inv-nodes</th>\n",
       "      <th>node-caps</th>\n",
       "      <th>deg-malig</th>\n",
       "      <th>breast</th>\n",
       "      <th>breast-quad</th>\n",
       "      <th>irradiat</th>\n",
       "      <th>label</th>\n",
       "    </tr>\n",
       "  </thead>\n",
       "  <tbody>\n",
       "    <tr>\n",
       "      <th>count</th>\n",
       "      <td>286</td>\n",
       "      <td>286</td>\n",
       "      <td>286</td>\n",
       "      <td>286</td>\n",
       "      <td>286</td>\n",
       "      <td>286</td>\n",
       "      <td>286</td>\n",
       "      <td>286</td>\n",
       "      <td>286</td>\n",
       "      <td>286</td>\n",
       "    </tr>\n",
       "    <tr>\n",
       "      <th>unique</th>\n",
       "      <td>6</td>\n",
       "      <td>3</td>\n",
       "      <td>11</td>\n",
       "      <td>7</td>\n",
       "      <td>2</td>\n",
       "      <td>3</td>\n",
       "      <td>2</td>\n",
       "      <td>5</td>\n",
       "      <td>2</td>\n",
       "      <td>2</td>\n",
       "    </tr>\n",
       "    <tr>\n",
       "      <th>top</th>\n",
       "      <td>'50-59'</td>\n",
       "      <td>'premeno'</td>\n",
       "      <td>'30-34'</td>\n",
       "      <td>'0-2'</td>\n",
       "      <td>'no'</td>\n",
       "      <td>'2'</td>\n",
       "      <td>'left'</td>\n",
       "      <td>'left_low'</td>\n",
       "      <td>'no'</td>\n",
       "      <td>'no-recurrence-events'</td>\n",
       "    </tr>\n",
       "    <tr>\n",
       "      <th>freq</th>\n",
       "      <td>96</td>\n",
       "      <td>150</td>\n",
       "      <td>60</td>\n",
       "      <td>213</td>\n",
       "      <td>230</td>\n",
       "      <td>130</td>\n",
       "      <td>152</td>\n",
       "      <td>111</td>\n",
       "      <td>218</td>\n",
       "      <td>201</td>\n",
       "    </tr>\n",
       "  </tbody>\n",
       "</table>\n",
       "</div>"
      ],
      "text/plain": [
       "            age  meonpause tumor-size inv-nodes node-caps deg-malig  breast  \\\n",
       "count       286        286        286       286       286       286     286   \n",
       "unique        6          3         11         7         2         3       2   \n",
       "top     '50-59'  'premeno'    '30-34'     '0-2'      'no'       '2'  'left'   \n",
       "freq         96        150         60       213       230       130     152   \n",
       "\n",
       "       breast-quad irradiat                   label  \n",
       "count          286      286                     286  \n",
       "unique           5        2                       2  \n",
       "top     'left_low'     'no'  'no-recurrence-events'  \n",
       "freq           111      218                     201  "
      ]
     },
     "execution_count": 8,
     "metadata": {},
     "output_type": "execute_result"
    }
   ],
   "source": [
    "df.describe()"
   ]
  },
  {
   "cell_type": "markdown",
   "metadata": {},
   "source": [
    "# 📊 Ý nghĩa các cột trong bộ dữ liệu Breast Cancer Recurrence\n",
    "\n",
    "| Cột          | Ý nghĩa                                           | Giá trị ví dụ                                               |\n",
    "|--------------|--------------------------------------------------|-------------------------------------------------------------|\n",
    "| **age**      | Nhóm tuổi của bệnh nhân                          | `20-29`, `30-39`, …                                        |\n",
    "| **menopause**| Tình trạng mãn kinh                              | `lt40` (chưa mãn kinh, <40 tuổi), `ge40` (≥40 tuổi), `premeno` (tiền mãn kinh) |\n",
    "| **tumor-size** | Kích thước khối u                              | `0-4`, `5-9`, `10-14`, … (đơn vị mm)                       |\n",
    "| **inv-nodes**| Số hạch bạch huyết bị xâm lấn                    | `0-2`, `3-5`, `6-8`, …                                     |\n",
    "| **node-caps**| Có bao hạch bị vỡ (node-capsule)?                 | `yes` / `no` / `?` (thiếu dữ liệu)                         |\n",
    "| **deg-malig**| Mức độ ác tính của khối u (grade)                | `1`, `2`, `3` (tăng dần độ nghiêm trọng)                   |\n",
    "| **breast**   | Bên ngực bị ảnh hưởng                            | `left`, `right`                                            |\n",
    "| **breast-quad** | Vị trí khối u trong ngực (theo 4 phần tư)     | `left_up`, `left_low`, `right_up`, `right_low`, `central`  |\n",
    "| **irradiat** | Bệnh nhân có từng xạ trị hay không               | `yes` / `no`                                               |\n",
    "| **label**    | Nhãn kết quả: bệnh tái phát hay không            | `recurrence-events`, `no-recurrence-events`                |\n"
   ]
  },
  {
   "cell_type": "markdown",
   "metadata": {
    "id": "xYemmQRP0VCs"
   },
   "source": [
    "### **3.2. Encode categorical features**"
   ]
  },
  {
   "cell_type": "code",
   "execution_count": 9,
   "metadata": {
    "colab": {
     "base_uri": "https://localhost:8080/"
    },
    "executionInfo": {
     "elapsed": 27,
     "status": "ok",
     "timestamp": 1694952438002,
     "user": {
      "displayName": "Thắng Dương",
      "userId": "16346474942041582373"
     },
     "user_tz": -420
    },
    "id": "tOm4EAeM0ZA3",
    "outputId": "e1459d4b-2ec8-4ca8-bd2e-9674f6356a34"
   },
   "outputs": [
    {
     "name": "stdout",
     "output_type": "stream",
     "text": [
      "Unique values in age: [\"'40-49'\" \"'50-59'\" \"'60-69'\" \"'30-39'\" \"'70-79'\" \"'20-29'\"]\n",
      "Unique values in meonpause: [\"'premeno'\" \"'ge40'\" \"'lt40'\"]\n",
      "Unique values in tumor-size: [\"'15-19'\" \"'35-39'\" \"'30-34'\" \"'25-29'\" \"'40-44'\" \"'10-14'\" \"'0-4'\"\n",
      " \"'20-24'\" \"'45-49'\" \"'50-54'\" \"'5-9'\"]\n",
      "Unique values in inv-nodes: [\"'0-2'\" \"'3-5'\" \"'15-17'\" \"'6-8'\" \"'9-11'\" \"'24-26'\" \"'12-14'\"]\n",
      "Unique values in node-caps: [\"'yes'\" \"'no'\"]\n",
      "Unique values in deg-malig: [\"'3'\" \"'1'\" \"'2'\"]\n",
      "Unique values in breast: [\"'right'\" \"'left'\"]\n",
      "Unique values in breast-quad: [\"'left_up'\" \"'central'\" \"'left_low'\" \"'right_up'\" \"'right_low'\"]\n",
      "Unique values in irradiat: [\"'no'\" \"'yes'\"]\n",
      "Unique values in label: [\"'recurrence-events'\" \"'no-recurrence-events'\"]\n"
     ]
    }
   ],
   "source": [
    "for col_name in df.columns:\n",
    "    n_uniques = df[col_name].unique()\n",
    "    print(f'Unique values in {col_name}: {n_uniques}')"
   ]
  },
  {
   "cell_type": "code",
   "execution_count": 10,
   "metadata": {
    "id": "0KjVDQjj6ERR"
   },
   "outputs": [],
   "source": [
    "non_rank_features = ['meonpause', 'node-caps', 'breast', 'breast-quad', 'irradiat']\n",
    "rank_features = ['age', 'tumor-size', 'inv-nodes', 'deg-malig']\n",
    "\n",
    "y = df['label']\n",
    "X = df.drop('label', axis=1)"
   ]
  },
  {
   "cell_type": "code",
   "execution_count": 11,
   "metadata": {
    "id": "rKsauaCf00k9"
   },
   "outputs": [],
   "source": [
    "transformer = ColumnTransformer(\n",
    "    transformers=[\n",
    "        (\"OneHot\", OneHotEncoder(drop='first'), non_rank_features),\n",
    "        (\"Ordinal\", OrdinalEncoder(), rank_features)\n",
    "    ],\n",
    "    remainder='passthrough'\n",
    ")\n",
    "X_transformed = transformer.fit_transform(X)\n",
    "\n",
    "onehot_features = transformer.named_transformers_['OneHot'].get_feature_names_out(non_rank_features)\n",
    "all_features = onehot_features.tolist() + rank_features\n",
    "\n",
    "X_encoded = pd.DataFrame(\n",
    "    X_transformed,\n",
    "    columns=all_features\n",
    ")"
   ]
  },
  {
   "cell_type": "code",
   "execution_count": 12,
   "metadata": {
    "colab": {
     "base_uri": "https://localhost:8080/",
     "height": 461
    },
    "executionInfo": {
     "elapsed": 505,
     "status": "ok",
     "timestamp": 1694952438483,
     "user": {
      "displayName": "Thắng Dương",
      "userId": "16346474942041582373"
     },
     "user_tz": -420
    },
    "id": "0ExXj-4Z4JoC",
    "outputId": "f7b89040-818f-4a88-e153-d199d71bde4a"
   },
   "outputs": [
    {
     "data": {
      "text/html": [
       "<div>\n",
       "<style scoped>\n",
       "    .dataframe tbody tr th:only-of-type {\n",
       "        vertical-align: middle;\n",
       "    }\n",
       "\n",
       "    .dataframe tbody tr th {\n",
       "        vertical-align: top;\n",
       "    }\n",
       "\n",
       "    .dataframe thead th {\n",
       "        text-align: right;\n",
       "    }\n",
       "</style>\n",
       "<table border=\"1\" class=\"dataframe\">\n",
       "  <thead>\n",
       "    <tr style=\"text-align: right;\">\n",
       "      <th></th>\n",
       "      <th>meonpause_'lt40'</th>\n",
       "      <th>meonpause_'premeno'</th>\n",
       "      <th>node-caps_'yes'</th>\n",
       "      <th>breast_'right'</th>\n",
       "      <th>breast-quad_'left_low'</th>\n",
       "      <th>breast-quad_'left_up'</th>\n",
       "      <th>breast-quad_'right_low'</th>\n",
       "      <th>breast-quad_'right_up'</th>\n",
       "      <th>irradiat_'yes'</th>\n",
       "      <th>age</th>\n",
       "      <th>tumor-size</th>\n",
       "      <th>inv-nodes</th>\n",
       "      <th>deg-malig</th>\n",
       "    </tr>\n",
       "  </thead>\n",
       "  <tbody>\n",
       "    <tr>\n",
       "      <th>0</th>\n",
       "      <td>0.0</td>\n",
       "      <td>1.0</td>\n",
       "      <td>1.0</td>\n",
       "      <td>1.0</td>\n",
       "      <td>0.0</td>\n",
       "      <td>1.0</td>\n",
       "      <td>0.0</td>\n",
       "      <td>0.0</td>\n",
       "      <td>0.0</td>\n",
       "      <td>2.0</td>\n",
       "      <td>2.0</td>\n",
       "      <td>0.0</td>\n",
       "      <td>2.0</td>\n",
       "    </tr>\n",
       "    <tr>\n",
       "      <th>1</th>\n",
       "      <td>0.0</td>\n",
       "      <td>0.0</td>\n",
       "      <td>0.0</td>\n",
       "      <td>1.0</td>\n",
       "      <td>0.0</td>\n",
       "      <td>0.0</td>\n",
       "      <td>0.0</td>\n",
       "      <td>0.0</td>\n",
       "      <td>0.0</td>\n",
       "      <td>3.0</td>\n",
       "      <td>2.0</td>\n",
       "      <td>0.0</td>\n",
       "      <td>0.0</td>\n",
       "    </tr>\n",
       "    <tr>\n",
       "      <th>2</th>\n",
       "      <td>0.0</td>\n",
       "      <td>0.0</td>\n",
       "      <td>0.0</td>\n",
       "      <td>0.0</td>\n",
       "      <td>1.0</td>\n",
       "      <td>0.0</td>\n",
       "      <td>0.0</td>\n",
       "      <td>0.0</td>\n",
       "      <td>0.0</td>\n",
       "      <td>3.0</td>\n",
       "      <td>6.0</td>\n",
       "      <td>0.0</td>\n",
       "      <td>1.0</td>\n",
       "    </tr>\n",
       "    <tr>\n",
       "      <th>3</th>\n",
       "      <td>0.0</td>\n",
       "      <td>1.0</td>\n",
       "      <td>1.0</td>\n",
       "      <td>1.0</td>\n",
       "      <td>1.0</td>\n",
       "      <td>0.0</td>\n",
       "      <td>0.0</td>\n",
       "      <td>0.0</td>\n",
       "      <td>1.0</td>\n",
       "      <td>2.0</td>\n",
       "      <td>6.0</td>\n",
       "      <td>0.0</td>\n",
       "      <td>2.0</td>\n",
       "    </tr>\n",
       "    <tr>\n",
       "      <th>4</th>\n",
       "      <td>0.0</td>\n",
       "      <td>1.0</td>\n",
       "      <td>1.0</td>\n",
       "      <td>0.0</td>\n",
       "      <td>0.0</td>\n",
       "      <td>0.0</td>\n",
       "      <td>0.0</td>\n",
       "      <td>1.0</td>\n",
       "      <td>0.0</td>\n",
       "      <td>2.0</td>\n",
       "      <td>5.0</td>\n",
       "      <td>4.0</td>\n",
       "      <td>1.0</td>\n",
       "    </tr>\n",
       "    <tr>\n",
       "      <th>...</th>\n",
       "      <td>...</td>\n",
       "      <td>...</td>\n",
       "      <td>...</td>\n",
       "      <td>...</td>\n",
       "      <td>...</td>\n",
       "      <td>...</td>\n",
       "      <td>...</td>\n",
       "      <td>...</td>\n",
       "      <td>...</td>\n",
       "      <td>...</td>\n",
       "      <td>...</td>\n",
       "      <td>...</td>\n",
       "      <td>...</td>\n",
       "    </tr>\n",
       "    <tr>\n",
       "      <th>281</th>\n",
       "      <td>0.0</td>\n",
       "      <td>0.0</td>\n",
       "      <td>1.0</td>\n",
       "      <td>0.0</td>\n",
       "      <td>1.0</td>\n",
       "      <td>0.0</td>\n",
       "      <td>0.0</td>\n",
       "      <td>0.0</td>\n",
       "      <td>0.0</td>\n",
       "      <td>3.0</td>\n",
       "      <td>5.0</td>\n",
       "      <td>5.0</td>\n",
       "      <td>1.0</td>\n",
       "    </tr>\n",
       "    <tr>\n",
       "      <th>282</th>\n",
       "      <td>0.0</td>\n",
       "      <td>1.0</td>\n",
       "      <td>1.0</td>\n",
       "      <td>0.0</td>\n",
       "      <td>1.0</td>\n",
       "      <td>0.0</td>\n",
       "      <td>0.0</td>\n",
       "      <td>0.0</td>\n",
       "      <td>1.0</td>\n",
       "      <td>3.0</td>\n",
       "      <td>4.0</td>\n",
       "      <td>4.0</td>\n",
       "      <td>1.0</td>\n",
       "    </tr>\n",
       "    <tr>\n",
       "      <th>283</th>\n",
       "      <td>0.0</td>\n",
       "      <td>1.0</td>\n",
       "      <td>1.0</td>\n",
       "      <td>1.0</td>\n",
       "      <td>0.0</td>\n",
       "      <td>0.0</td>\n",
       "      <td>0.0</td>\n",
       "      <td>1.0</td>\n",
       "      <td>0.0</td>\n",
       "      <td>1.0</td>\n",
       "      <td>5.0</td>\n",
       "      <td>5.0</td>\n",
       "      <td>1.0</td>\n",
       "    </tr>\n",
       "    <tr>\n",
       "      <th>284</th>\n",
       "      <td>0.0</td>\n",
       "      <td>1.0</td>\n",
       "      <td>0.0</td>\n",
       "      <td>1.0</td>\n",
       "      <td>1.0</td>\n",
       "      <td>0.0</td>\n",
       "      <td>0.0</td>\n",
       "      <td>0.0</td>\n",
       "      <td>0.0</td>\n",
       "      <td>3.0</td>\n",
       "      <td>2.0</td>\n",
       "      <td>0.0</td>\n",
       "      <td>1.0</td>\n",
       "    </tr>\n",
       "    <tr>\n",
       "      <th>285</th>\n",
       "      <td>0.0</td>\n",
       "      <td>0.0</td>\n",
       "      <td>0.0</td>\n",
       "      <td>0.0</td>\n",
       "      <td>0.0</td>\n",
       "      <td>0.0</td>\n",
       "      <td>0.0</td>\n",
       "      <td>1.0</td>\n",
       "      <td>0.0</td>\n",
       "      <td>3.0</td>\n",
       "      <td>7.0</td>\n",
       "      <td>0.0</td>\n",
       "      <td>2.0</td>\n",
       "    </tr>\n",
       "  </tbody>\n",
       "</table>\n",
       "<p>286 rows × 13 columns</p>\n",
       "</div>"
      ],
      "text/plain": [
       "     meonpause_'lt40'  meonpause_'premeno'  node-caps_'yes'  breast_'right'  \\\n",
       "0                 0.0                  1.0              1.0             1.0   \n",
       "1                 0.0                  0.0              0.0             1.0   \n",
       "2                 0.0                  0.0              0.0             0.0   \n",
       "3                 0.0                  1.0              1.0             1.0   \n",
       "4                 0.0                  1.0              1.0             0.0   \n",
       "..                ...                  ...              ...             ...   \n",
       "281               0.0                  0.0              1.0             0.0   \n",
       "282               0.0                  1.0              1.0             0.0   \n",
       "283               0.0                  1.0              1.0             1.0   \n",
       "284               0.0                  1.0              0.0             1.0   \n",
       "285               0.0                  0.0              0.0             0.0   \n",
       "\n",
       "     breast-quad_'left_low'  breast-quad_'left_up'  breast-quad_'right_low'  \\\n",
       "0                       0.0                    1.0                      0.0   \n",
       "1                       0.0                    0.0                      0.0   \n",
       "2                       1.0                    0.0                      0.0   \n",
       "3                       1.0                    0.0                      0.0   \n",
       "4                       0.0                    0.0                      0.0   \n",
       "..                      ...                    ...                      ...   \n",
       "281                     1.0                    0.0                      0.0   \n",
       "282                     1.0                    0.0                      0.0   \n",
       "283                     0.0                    0.0                      0.0   \n",
       "284                     1.0                    0.0                      0.0   \n",
       "285                     0.0                    0.0                      0.0   \n",
       "\n",
       "     breast-quad_'right_up'  irradiat_'yes'  age  tumor-size  inv-nodes  \\\n",
       "0                       0.0             0.0  2.0         2.0        0.0   \n",
       "1                       0.0             0.0  3.0         2.0        0.0   \n",
       "2                       0.0             0.0  3.0         6.0        0.0   \n",
       "3                       0.0             1.0  2.0         6.0        0.0   \n",
       "4                       1.0             0.0  2.0         5.0        4.0   \n",
       "..                      ...             ...  ...         ...        ...   \n",
       "281                     0.0             0.0  3.0         5.0        5.0   \n",
       "282                     0.0             1.0  3.0         4.0        4.0   \n",
       "283                     1.0             0.0  1.0         5.0        5.0   \n",
       "284                     0.0             0.0  3.0         2.0        0.0   \n",
       "285                     1.0             0.0  3.0         7.0        0.0   \n",
       "\n",
       "     deg-malig  \n",
       "0          2.0  \n",
       "1          0.0  \n",
       "2          1.0  \n",
       "3          2.0  \n",
       "4          1.0  \n",
       "..         ...  \n",
       "281        1.0  \n",
       "282        1.0  \n",
       "283        1.0  \n",
       "284        1.0  \n",
       "285        2.0  \n",
       "\n",
       "[286 rows x 13 columns]"
      ]
     },
     "execution_count": 12,
     "metadata": {},
     "output_type": "execute_result"
    }
   ],
   "source": [
    "X_encoded"
   ]
  },
  {
   "cell_type": "markdown",
   "metadata": {
    "id": "pEiLy5fF5VCL"
   },
   "source": [
    "### **3.3. Encode label**"
   ]
  },
  {
   "cell_type": "code",
   "execution_count": 16,
   "metadata": {
    "id": "4HmXMBHv5XIr"
   },
   "outputs": [
    {
     "name": "stdout",
     "output_type": "stream",
     "text": [
      "👉 Trước khi encode: 0       'recurrence-events'\n",
      "1    'no-recurrence-events'\n",
      "2       'recurrence-events'\n",
      "Name: label, dtype: object\n",
      "👉 Sau khi encode: [1 0 1]\n",
      "👉 Mapping: {\"'no-recurrence-events'\": 0, \"'recurrence-events'\": 1}\n"
     ]
    }
   ],
   "source": [
    "# Khởi tạo LabelEncoder\n",
    "label_encoder = LabelEncoder()\n",
    "\n",
    "# Fit và transform\n",
    "y_encoded = label_encoder.fit_transform(y)\n",
    "\n",
    "# In thử vài phần tử\n",
    "print(\"👉 Trước khi encode:\", y[:3])         # chỉ in 3 phần tử đầu\n",
    "print(\"👉 Sau khi encode:\", y_encoded[:3])   # chỉ in 3 phần tử đầu\n",
    "\n",
    "# Mapping nhãn ↔ số\n",
    "print(\"👉 Mapping:\", dict(zip(label_encoder.classes_, range(len(label_encoder.classes_)))))\n",
    "\n",
    "\n"
   ]
  },
  {
   "cell_type": "markdown",
   "metadata": {
    "id": "MkJsgr4c5iOi"
   },
   "source": [
    "### **3.4. Normalization**"
   ]
  },
  {
   "cell_type": "code",
   "execution_count": 15,
   "metadata": {
    "id": "2Vlvo-JH5kvi"
   },
   "outputs": [],
   "source": [
    "normalizer = StandardScaler()\n",
    "X_normalized = normalizer.fit_transform(X_encoded)"
   ]
  },
  {
   "cell_type": "markdown",
   "metadata": {
    "id": "b8HfzJ79HQ_B"
   },
   "source": [
    "## **4. Train test split**"
   ]
  },
  {
   "cell_type": "code",
   "execution_count": 21,
   "metadata": {
    "id": "--OgN5g3HkL9"
   },
   "outputs": [],
   "source": [
    "test_size = 0.3\n",
    "random_state = 1\n",
    "is_shuffle = True\n",
    "X_train, X_test, y_train, y_test = train_test_split(\n",
    "    X_normalized, y_encoded,\n",
    "    test_size=test_size,\n",
    "    random_state=random_state,\n",
    "    shuffle=is_shuffle\n",
    ")"
   ]
  },
  {
   "cell_type": "code",
   "execution_count": 22,
   "metadata": {
    "colab": {
     "base_uri": "https://localhost:8080/"
    },
    "executionInfo": {
     "elapsed": 6,
     "status": "ok",
     "timestamp": 1694952438484,
     "user": {
      "displayName": "Thắng Dương",
      "userId": "16346474942041582373"
     },
     "user_tz": -420
    },
    "id": "IAvfg0ESH8Wx",
    "outputId": "e19eda9e-b956-4a50-b014-7b84e36e49a4"
   },
   "outputs": [
    {
     "name": "stdout",
     "output_type": "stream",
     "text": [
      "Number of training samples: 200\n",
      "Number of val samples: 86\n"
     ]
    }
   ],
   "source": [
    "print(f'Number of training samples: {X_train.shape[0]}')\n",
    "print(f'Number of val samples: {X_test.shape[0]}')"
   ]
  },
  {
   "cell_type": "markdown",
   "metadata": {
    "id": "J8Xb_QR0IUwt"
   },
   "source": [
    "## **5. Training**"
   ]
  },
  {
   "cell_type": "code",
   "execution_count": 27,
   "metadata": {
    "colab": {
     "base_uri": "https://localhost:8080/",
     "height": 75
    },
    "executionInfo": {
     "elapsed": 6,
     "status": "ok",
     "timestamp": 1694952438485,
     "user": {
      "displayName": "Thắng Dương",
      "userId": "16346474942041582373"
     },
     "user_tz": -420
    },
    "id": "FSR9opihIWhW",
    "outputId": "c5f5b5a5-91a6-4cfb-ac81-125c6601c66c"
   },
   "outputs": [
    {
     "name": "stdout",
     "output_type": "stream",
     "text": [
      "Evaluation results on test set:\n",
      "Accuracy: 0.6860\n",
      "\n",
      "👉 Important parameters:\n",
      "C: 1.0\n",
      "Gamma: scale\n",
      "Kernel: rbf\n"
     ]
    }
   ],
   "source": [
    "# Khởi tạo với parameter mặc định (chỉ set random_state cho reproducibility)\n",
    "classifier = SVC(random_state=random_state)\n",
    "classifier.fit(X_train, y_train)\n",
    "\n",
    "# Dự đoán\n",
    "y_pred = classifier.predict(X_test)\n",
    "scores = accuracy_score(y_pred, y_test)\n",
    "\n",
    "# Evaluation\n",
    "print('Evaluation results on test set:')\n",
    "print(f'Accuracy: {scores:.4f}')\n",
    "\n",
    "# In ra 3 parameter chính\n",
    "print(\"\\n👉 Important parameters:\")\n",
    "print(f\"C: {classifier.C}\")\n",
    "print(f\"Gamma: {classifier.gamma}\")\n",
    "print(f\"Kernel: {classifier.kernel}\")"
   ]
  },
  {
   "cell_type": "markdown",
   "metadata": {
    "id": "oLCru_l5JBFr"
   },
   "source": [
    "## **6. Evaluation**"
   ]
  },
  {
   "cell_type": "code",
   "execution_count": 24,
   "metadata": {
    "colab": {
     "base_uri": "https://localhost:8080/"
    },
    "executionInfo": {
     "elapsed": 6,
     "status": "ok",
     "timestamp": 1694952438485,
     "user": {
      "displayName": "Thắng Dương",
      "userId": "16346474942041582373"
     },
     "user_tz": -420
    },
    "id": "QeXaxZTYJF_S",
    "outputId": "36e851df-1612-4bc2-fb22-aa1a6b239b10"
   },
   "outputs": [
    {
     "name": "stdout",
     "output_type": "stream",
     "text": [
      "Evaluation results on test set:\n",
      "Accuracy: 0.686046511627907\n"
     ]
    }
   ],
   "source": [
    "y_pred = classifier.predict(X_test)\n",
    "scores = accuracy_score(y_pred, y_test)\n",
    "\n",
    "print('Evaluation results on test set:')\n",
    "print(f'Accuracy: {scores}')"
   ]
  },
  {
   "cell_type": "markdown",
   "metadata": {},
   "source": [
    "# Fine Tune Parameters"
   ]
  },
  {
   "cell_type": "code",
   "execution_count": 25,
   "metadata": {},
   "outputs": [
    {
     "name": "stdout",
     "output_type": "stream",
     "text": [
      "👉 Best parameters: {'C': 0.1, 'gamma': 'scale', 'kernel': 'poly'}\n",
      "👉 Best accuracy: 0.74\n"
     ]
    }
   ],
   "source": [
    "from sklearn.model_selection import GridSearchCV\n",
    "from sklearn.svm import SVC\n",
    "\n",
    "# Định nghĩa parameter grid\n",
    "param_grid = {\n",
    "    'kernel': ['linear', 'poly', 'rbf', 'sigmoid'],\n",
    "    'C': [0.1, 1, 10],          # tham số điều chỉnh độ phạt\n",
    "    'gamma': ['scale', 'auto']  # hệ số kernel (áp dụng cho poly, rbf, sigmoid)\n",
    "}\n",
    "\n",
    "# Khởi tạo SVC\n",
    "svc = SVC(random_state=random_state)\n",
    "\n",
    "# GridSearchCV\n",
    "grid_search = GridSearchCV(\n",
    "    estimator=svc,\n",
    "    param_grid=param_grid,\n",
    "    cv=5,              # cross-validation 5 folds\n",
    "    scoring='accuracy',\n",
    "    n_jobs=-1\n",
    ")\n",
    "\n",
    "# Train\n",
    "grid_search.fit(X_train, y_train)\n",
    "\n",
    "# In kết quả tốt nhất\n",
    "print(\"👉 Best parameters:\", grid_search.best_params_)\n",
    "print(\"👉 Best accuracy:\", grid_search.best_score_)"
   ]
  }
 ],
 "metadata": {
  "colab": {
   "authorship_tag": "ABX9TyMaMxD2in2YYDHbuBHhB/kn",
   "provenance": []
  },
  "kernelspec": {
   "display_name": "Python 3",
   "name": "python3"
  },
  "language_info": {
   "codemirror_mode": {
    "name": "ipython",
    "version": 3
   },
   "file_extension": ".py",
   "mimetype": "text/x-python",
   "name": "python",
   "nbconvert_exporter": "python",
   "pygments_lexer": "ipython3",
   "version": "3.11.5"
  }
 },
 "nbformat": 4,
 "nbformat_minor": 0
}
