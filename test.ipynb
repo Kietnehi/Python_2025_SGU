{
 "cells": [
  {
   "cell_type": "markdown",
   "id": "0a938f94",
   "metadata": {},
   "source": [
    "| 🧩 **Chủ đề** | 🔗 **Link Canva / Tài liệu học tập** |\n",
    "|:--|:--|\n",
    "| 🧮 **Numpy** | [Xem Canvas](https://drive.google.com/file/d/15mp6EOB68LNWKGEomKHZSMvcYsd4IUwr/view?usp=sharing) |\n",
    "| 📊 **Matplotlib** | [Xem Canvas](https://www.canva.com/design/DAGZWHSgnCI/nZZyRT0o7w2OSxDM8Ys3Vw/edit) |\n",
    "| 🧾 **Pandas** | [Xem Canvas](https://www.canva.com/design/DAGzVtrx2bc/cf3JB0ldvt2c4wEUGMFkUw/view) |\n",
    "| ⚙️ **SVM (Support Vector Machine)** | [Xem Canvas](https://www.canva.com/design/DAGz8r2iV7M/7omI_zSA5tHtg4jRyYgMQA/edit) |\n",
    "| 🔍 **KNN (K-Nearest Neighbors)** | [Xem Canvas](https://www.canva.com/design/DAGz-PdH2-U/1ZLbjFjGYQyIrQXhHAVDGg/edit) |\n",
    "| 🌀 **KMeans Clustering** | [Xem Canvas](https://www.canva.com/design/DAG0AgMIdeI/nSC7YnyBhJq-lxUX4VHYwQ/edit) |\n",
    "| 🧠 **CNN (Convolutional Neural Network)** | [Xem Canvas](https://www.canva.com/design/DAG0k1BtRMY/sSwAmH3TCnEO5oux_8C2iQ/edit) |\n",
    "| 🗣️ **CNN for Text Classification (NLP)** | [Xem Canvas](https://www.canva.com/design/DAG0pMVsh1g/iLGh4JGtSY-XdLSzuF9Suw/edit) |\n",
    "| 🧩 **VGG Network** | [Xem Canvas](https://www.canva.com/design/DAG1WmUVVAA/da9eJiuqoLMyywksKU9C_Q/edit) |\n",
    "| 🎯 **YOLO (Object Detection)** | [Xem Canvas](https://www.canva.com/design/DAG13Fvc2Zo/YQOEeYHzBFIdm9_CjeqliA/edit) |\n",
    "| 🔁 **ResNet (Residual Network)** | [Xem Canvas](https://www.canva.com/design/DAG2mWgdXkw/jjbjbrMHs3HSH7RTadEDMg/edit) |\n",
    "| **GAN (Generative adversarial networks)** | [Mở File PPTX](./asset/GAN-model.pptx) |\n",
    "\n"
   ]
  }
 ],
 "metadata": {
  "language_info": {
   "name": "python"
  }
 },
 "nbformat": 4,
 "nbformat_minor": 5
}
